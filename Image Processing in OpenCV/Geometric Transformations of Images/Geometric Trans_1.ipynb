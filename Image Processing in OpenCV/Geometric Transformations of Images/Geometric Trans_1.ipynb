{
 "cells": [
  {
   "cell_type": "markdown",
   "metadata": {},
   "source": [
    "## 变换\n",
    "\n",
    "两个变换函数，cv.warpAffine和cv.warpPerspective可以实现所有类型的变换。\n",
    "\n",
    "其中，cv.warpAffine接收的参数是2x3的变换矩阵，而cv.warpPerspective接收的参数是3x3的变换矩阵"
   ]
  },
  {
   "cell_type": "code",
   "execution_count": 1,
   "metadata": {
    "tags": []
   },
   "outputs": [
    {
     "output_type": "stream",
     "name": "stdout",
     "text": "(400, 600, 3) (800, 1200, 3) (400, 600, 3)\n"
    }
   ],
   "source": [
    "import cv2 as cv\n",
    "import numpy as np\n",
    "from matplotlib import pyplot as plt\n",
    "img = cv.imread('D:\\\\CodingFolder\\\\OPENCVFolder\\\\OPENCV-Python\\\\resource\\\\black_white_2.png')\n",
    "# None 这里本应该是输出图像的尺寸，但是因为后面我们设置了缩放因子，因此这里为None\n",
    "res1 = cv.resize(img, None, fx=2,fy=2, interpolation=cv.INTER_CUBIC)\n",
    "\n",
    "height, width = img.shape[:2]\n",
    "\n",
    "res2 = cv.resize(img, (600, 400), interpolation=cv.INTER_CUBIC)\n",
    "\n",
    "print(img.shape, res1.shape, res2.shape)\n",
    "\n",
    "# plt.subplot(211), plt.imshow(res1, 'gray')\n",
    "# plt.subplot(212), plt.imshow(res2, 'gray')\n",
    "cv.imshow('primitive image', img)\n",
    "cv.imshow('res1', res1)\n",
    "cv.imshow('res2', res2)\n",
    "cv.waitKey(0)\n",
    "cv.destroyAllWindows()\n",
    "# plt.show()"
   ]
  },
  {
   "cell_type": "markdown",
   "metadata": {},
   "source": [
    "## 扩展缩放\n",
    "\n",
    "只改变图像的尺寸大小。\n",
    "\n",
    "缩放时我们使用cv.INTER_AREA\n",
    "\n",
    "扩展时我们使用cv.INTER_CUBIC和cv.INTER_LINEAR"
   ]
  },
  {
   "cell_type": "code",
   "execution_count": 6,
   "metadata": {},
   "outputs": [],
   "source": [
    "import cv2 as cv\n",
    "import numpy as np\n",
    "\n",
    "img = cv.imread('D:\\\\CodingFolder\\\\OPENCVFolder\\\\OPENCV-Python\\\\resource\\\\1.jpg')\n",
    "\n",
    "res = cv.resize(img, None, fx=2, fy=2, interpolation=cv.INTER_CUBIC)\n",
    "\n",
    "# 这里我们直接输出图像的尺寸，不设置缩放因子\n",
    "height, width = img.shape[:2]\n",
    "res = cv.resize(img, (2*width, 2*height), interpolation=cv.INTER_LINEAR)\n",
    "\n",
    "while(1):\n",
    "    cv.imshow('res', res)\n",
    "    cv.imshow('img', img)\n",
    "\n",
    "    if cv.waitKey(1) & 0xFF == 27:\n",
    "        break\n",
    "cv.destroyAllWindows()"
   ]
  },
  {
   "cell_type": "markdown",
   "metadata": {},
   "source": [
    "## 平移\n",
    "\n",
    "下面我们使用cv.warpAffine函数，所以需要传入一个2x3的矩阵\n",
    "\n"
   ]
  },
  {
   "cell_type": "code",
   "execution_count": 6,
   "metadata": {},
   "outputs": [
    {
     "output_type": "error",
     "ename": "ModuleNotFoundError",
     "evalue": "No module named 'cv2'",
     "traceback": [
      "\u001b[1;31m---------------------------------------------------------------------------\u001b[0m",
      "\u001b[1;31mModuleNotFoundError\u001b[0m                       Traceback (most recent call last)",
      "\u001b[1;32m<ipython-input-6-b1ba14e2c882>\u001b[0m in \u001b[0;36m<module>\u001b[1;34m\u001b[0m\n\u001b[1;32m----> 1\u001b[1;33m \u001b[1;32mimport\u001b[0m \u001b[0mcv2\u001b[0m \u001b[1;32mas\u001b[0m \u001b[0mcv\u001b[0m\u001b[1;33m\u001b[0m\u001b[1;33m\u001b[0m\u001b[0m\n\u001b[0m\u001b[0;32m      2\u001b[0m \u001b[1;32mimport\u001b[0m \u001b[0mnumpy\u001b[0m \u001b[1;32mas\u001b[0m \u001b[0mnp\u001b[0m\u001b[1;33m\u001b[0m\u001b[1;33m\u001b[0m\u001b[0m\n\u001b[0;32m      3\u001b[0m \u001b[1;33m\u001b[0m\u001b[0m\n\u001b[0;32m      4\u001b[0m \u001b[0mimg\u001b[0m \u001b[1;33m=\u001b[0m \u001b[0mcv\u001b[0m\u001b[1;33m.\u001b[0m\u001b[0mimread\u001b[0m\u001b[1;33m(\u001b[0m\u001b[1;34m'D:\\\\CodingFolder\\\\OPENCVFolder\\\\OPENCV-Python\\\\resource\\\\1.jpg'\u001b[0m\u001b[1;33m)\u001b[0m\u001b[1;33m\u001b[0m\u001b[1;33m\u001b[0m\u001b[0m\n\u001b[0;32m      5\u001b[0m \u001b[0mrows\u001b[0m\u001b[1;33m,\u001b[0m\u001b[0mcols\u001b[0m \u001b[1;33m=\u001b[0m \u001b[0mimg\u001b[0m\u001b[1;33m.\u001b[0m\u001b[0mshape\u001b[0m\u001b[1;33m[\u001b[0m\u001b[1;33m:\u001b[0m\u001b[1;36m2\u001b[0m\u001b[1;33m]\u001b[0m\u001b[1;33m\u001b[0m\u001b[1;33m\u001b[0m\u001b[0m\n",
      "\u001b[1;31mModuleNotFoundError\u001b[0m: No module named 'cv2'"
     ]
    }
   ],
   "source": [
    "import cv2 as cv\n",
    "import numpy as np\n",
    "\n",
    "img = cv.imread('D:\\\\CodingFolder\\\\OPENCVFolder\\\\OPENCV-Python\\\\resource\\\\1.jpg')\n",
    "rows,cols = img.shape[:2]\n",
    "\n",
    "M = np.float32([[1,0,100],[0,1,50]])\n",
    "dst = cv.warpAffine(img, M, (cols,rows))\n",
    "\n",
    "cv.imshow('img', img)\n",
    "cv.imshow('res', dst)\n",
    "cv.waitKey(0)\n",
    "cv.destroyAllWindows()"
   ]
  },
  {
   "cell_type": "code",
   "execution_count": 5,
   "metadata": {
    "tags": []
   },
   "outputs": [
    {
     "output_type": "error",
     "ename": "SyntaxError",
     "evalue": "invalid syntax (<ipython-input-5-3fb5f7bd4b5c>, line 1)",
     "traceback": [
      "\u001b[1;36m  File \u001b[1;32m\"<ipython-input-5-3fb5f7bd4b5c>\"\u001b[1;36m, line \u001b[1;32m1\u001b[0m\n\u001b[1;33m    cv2.warpAffine()?\u001b[0m\n\u001b[1;37m                    ^\u001b[0m\n\u001b[1;31mSyntaxError\u001b[0m\u001b[1;31m:\u001b[0m invalid syntax\n"
     ]
    }
   ],
   "source": []
  },
  {
   "cell_type": "markdown",
   "metadata": {},
   "source": [
    "## 旋转\n",
    "\n"
   ]
  },
  {
   "cell_type": "code",
   "execution_count": 19,
   "metadata": {},
   "outputs": [],
   "source": [
    "import cv2 as cv\n",
    "import numpy as np\n",
    "\n",
    "img = cv.imread('D:\\\\CodingFolder\\\\OPENCVFolder\\\\OPENCV-Python\\\\resource\\\\1.jpg')\n",
    "rows,cols = img.shape[:2]\n",
    "\n",
    "# 旋转了90度\n",
    "# 第一个参数为旋转中心，第二个为旋转角度，第三个为旋转后的缩放因子\n",
    "M = cv.getRotationMatrix2D((cols/2, rows/2),90,1)\n",
    "# 第三个参数为输出图像的尺寸中心\n",
    "dst1 = cv.warpAffine(img, M, (cols, rows))\n",
    "\n",
    "M1 = cv.getRotationMatrix2D((cols/3, rows/3),90,1)\n",
    "dst2 = cv.warpAffine(img, M1, (cols, rows))\n",
    "# 顺时针旋转45度，缩放因子为0.6\n",
    "M2 = cv.getRotationMatrix2D((cols/2, rows/2), -45, 0.6)\n",
    "dst3 = cv.warpAffine(img, M2, (cols, rows))\n",
    "cv.imshow('img', img)\n",
    "cv.imshow('res1', dst1)\n",
    "cv.imshow('res2', dst2)\n",
    "cv.imshow('res', dst3)\n",
    "cv.waitKey(0)\n",
    "cv.destroyAllWindows()"
   ]
  },
  {
   "cell_type": "markdown",
   "metadata": {},
   "source": [
    "## 仿射变换\n",
    "\n",
    "仿射变换是需要一个M矩阵就行，但是由于仿射变换比较复杂，找到这个矩阵很难，opencv提供了根据变换前后三个点的对应关系来自动求解M.这个函数是\n",
    "\n",
    "M = cv2.getAffineTransform(pos1, pos2),其中两个位置就是变换前后的对应位置关系，输出的就是仿射矩阵M.然后在使用函数cv.warpAffine()"
   ]
  },
  {
   "cell_type": "code",
   "execution_count": 23,
   "metadata": {},
   "outputs": [],
   "source": [
    "import cv2 as cv\n",
    "import numpy as np\n",
    "\n",
    "img = cv.imread('D:\\\\CodingFolder\\\\OPENCVFolder\\\\OPENCV-Python\\\\resource\\\\1.jpg')\n",
    "rows,cols = img.shape[:2]\n",
    "\n",
    "# 变换前的三个点与其对应的变换后的点\n",
    "pts1 = np.float32([[10,50],[200,50],[50,250]])\n",
    "pts2 = np.float32([[10,100],[200,50],[100,250]])\n",
    "# 返回一个矩阵\n",
    "M = cv.getAffineTransform(pts1, pts2)\n",
    "dst = cv.warpAffine(img, M, (cols, rows))\n",
    "\n",
    "cv.imshow('img', img)\n",
    "cv.imshow('res', dst)\n",
    "cv.waitKey(0)\n",
    "cv.destroyAllWindows()"
   ]
  },
  {
   "cell_type": "markdown",
   "metadata": {},
   "source": [
    "## 透视，Perspective\n",
    "\n",
    "- 作用：将图像投影到一个新的视平面\n",
    "\n",
    "需要一个3x3变换矩阵。在变换前后要保证直线还是直线。\n",
    "\n",
    "要构建这个变换矩阵，需要在输入图像上找4个点，以及他们在输出图像上对应的位置。这四个点中任意三个都不能共线。"
   ]
  },
  {
   "cell_type": "code",
   "execution_count": 39,
   "metadata": {},
   "outputs": [],
   "source": [
    "import cv2 as cv\n",
    "import numpy as np\n",
    "\n",
    "img = cv.imread('D:\\\\CodingFolder\\\\OPENCVFolder\\\\OPENCV-Python\\\\resource\\\\1.jpg')\n",
    "rows,cols = img.shape[:2]\n",
    "\n",
    "pts1 = np.float32([[106,100],[208,52],[28,387],[389,390]])\n",
    "pts2 = np.float32([[0,0],[300,0],[0,300],[300,300]])\n",
    "\n",
    "M = cv.getPerspectiveTransform(pts1, pts2)\n",
    "dst = cv.warpPerspective(img, M, (700,550))\n",
    "\n",
    "cv.imshow('img', img)\n",
    "cv.imshow('res', dst)\n",
    "cv.waitKey(0)\n",
    "cv.destroyAllWindows()"
   ]
  },
  {
   "cell_type": "code",
   "execution_count": null,
   "metadata": {},
   "outputs": [],
   "source": []
  }
 ],
 "metadata": {
  "language_info": {
   "codemirror_mode": {
    "name": "ipython",
    "version": 3
   },
   "file_extension": ".py",
   "mimetype": "text/x-python",
   "name": "python",
   "nbconvert_exporter": "python",
   "pygments_lexer": "ipython3",
   "version": "3.7.7-final"
  },
  "orig_nbformat": 2,
  "kernelspec": {
   "name": "python37764bitbasecondaa0d86493b5554a53bb73a535091c2eac",
   "display_name": "Python 3.7.7 64-bit ('base': conda)"
  }
 },
 "nbformat": 4,
 "nbformat_minor": 2
}