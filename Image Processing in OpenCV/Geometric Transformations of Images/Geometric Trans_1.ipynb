{
 "cells": [
  {
   "cell_type": "code",
   "execution_count": 13,
   "metadata": {},
   "outputs": [
    {
     "output_type": "stream",
     "name": "stdout",
     "text": "(400, 600, 3) (800, 1200, 3) (400, 600, 3)\n"
    }
   ],
   "source": [
    "import cv2 as cv\n",
    "import numpy as np\n",
    "from matplotlib import pyplot as plt\n",
    "img = cv.imread('D:\\\\CodingFolder\\\\OPENCVFolder\\\\OPENCV-Python\\\\resource\\\\black_white_2.png')\n",
    "res1 = cv.resize(img, None, fx=2,fy=2, interpolation=cv.INTER_CUBIC)\n",
    "\n",
    "height, width = img.shape[:2]\n",
    "\n",
    "res2 = cv.resize(img, (600, 400), interpolation=cv.INTER_CUBIC)\n",
    "\n",
    "print(img.shape, res1.shape, res2.shape)\n",
    "\n",
    "# plt.subplot(211), plt.imshow(res1, 'gray')\n",
    "# plt.subplot(212), plt.imshow(res2, 'gray')\n",
    "cv.imshow('primitive image', img)\n",
    "cv.imshow('res1', res1)\n",
    "cv.imshow('res2', res2)\n",
    "cv.waitKey(0)\n",
    "cv.destroyAllWindows()\n",
    "# plt.show()"
   ]
  },
  {
   "cell_type": "code",
   "execution_count": null,
   "metadata": {},
   "outputs": [],
   "source": []
  }
 ],
 "metadata": {
  "language_info": {
   "codemirror_mode": {
    "name": "ipython",
    "version": 3
   },
   "file_extension": ".py",
   "mimetype": "text/x-python",
   "name": "python",
   "nbconvert_exporter": "python",
   "pygments_lexer": "ipython3",
   "version": "3.7.7-final"
  },
  "orig_nbformat": 2,
  "kernelspec": {
   "name": "python3",
   "display_name": "Python 3"
  }
 },
 "nbformat": 4,
 "nbformat_minor": 2
}