{
 "cells": [
  {
   "cell_type": "code",
   "execution_count": 2,
   "metadata": {},
   "outputs": [],
   "source": [
    "import cv2 as cv\n",
    "import numpy as np\n",
    "from matplotlib import pyplot as plt\n",
    "img = cv.imread('D:\\\\CodingFolder\\\\OPENCVFolder\\\\OPENCV-Python\\\\resource\\\\data\\\\baboon.jpg')\n",
    "cv.imshow('primitive image', img)\n",
    "cv.waitKey(0)\n",
    "cv.destroyAllWindows()"
   ]
  },
  {
   "cell_type": "markdown",
   "metadata": {},
   "source": [
    "ROI（Region of Interest）: 感兴趣的区域"
   ]
  },
  {
   "cell_type": "code",
   "execution_count": 2,
   "metadata": {},
   "outputs": [],
   "source": [
    "import cv2 as cv\n",
    "import numpy as np\n",
    "from matplotlib import pyplot as plt\n",
    "img = cv.imread('D:\\\\CodingFolder\\\\OPENCVFolder\\\\OPENCV-Python\\\\resource\\\\data\\\\baboon.jpg')\n",
    "cv.imshow('primitive image', img)\n",
    "# print(img.shape)\n",
    "# 提取ROI区域\n",
    "nose = img[230:450, 160:330]\n",
    "# 转为彩色换为灰色\n",
    "gray = cv.cvtColor(nose, cv.COLOR_BGR2GRAY)\n",
    "# 灰色转为彩色，这一步是必须的\n",
    "blacknose = cv.cvtColor(gray, cv.COLOR_GRAY2BGR)\n",
    "img[230:450, 160:330] = blacknose\n",
    "cv.imshow('nose', img)\n",
    "\n",
    "cv.waitKey(0)\n",
    "cv.destroyAllWindows()"
   ]
  },
  {
   "cell_type": "code",
   "execution_count": null,
   "metadata": {},
   "outputs": [],
   "source": []
  }
 ],
 "metadata": {
  "language_info": {
   "codemirror_mode": {
    "name": "ipython",
    "version": 3
   },
   "file_extension": ".py",
   "mimetype": "text/x-python",
   "name": "python",
   "nbconvert_exporter": "python",
   "pygments_lexer": "ipython3",
   "version": "3.7.7-final"
  },
  "orig_nbformat": 2,
  "kernelspec": {
   "name": "python3",
   "display_name": "Python 3"
  }
 },
 "nbformat": 4,
 "nbformat_minor": 2
}