{
 "cells": [
  {
   "cell_type": "markdown",
   "metadata": {},
   "source": [
    "# 位级运算\n",
    "\n"
   ]
  },
  {
   "cell_type": "code",
   "execution_count": 7,
   "metadata": {},
   "outputs": [],
   "source": [
    "import cv2 as cv\n",
    "import numpy as np\n",
    "from matplotlib import pyplot as plt\n",
    "\n",
    "img1 = cv.imread('D:\\\\CodingFolder\\\\OPENCVFolder\\\\OPENCV-Python\\\\resource\\\\data\\\\WindowsLogo.jpg')\n",
    "img2 = cv.imread('D:\\\\CodingFolder\\\\OPENCVFolder\\\\OPENCV-Python\\\\resource\\\\data\\\\LinuxLogo.jpg')\n",
    "\n",
    "# img2_resize = cv.resize(img1, (600,400), interpolation=cv.INTER_CUBIC)\n",
    "\n",
    "# print(img1.shape, img2_resize.shape)\n",
    "\n",
    "# 非运算\n",
    "res_not = cv.bitwise_not(img1)\n",
    "\n",
    "#\n",
    "res_and = cv.bitwise_and(img1, img2)\n",
    "\n",
    "# plt.subplot(211), plt.imshow(img1, 'gray')\n",
    "# plt.subplot(212), plt.imshow(img3, 'gray')\n",
    "# plt.show()\n",
    "\n",
    "cv.imshow('img1', img1)\n",
    "cv.imshow('img2', img2)\n",
    "cv.imshow('res',res_and)\n",
    "cv.waitKey(0)\n",
    "cv.destroyAllWindows()\n"
   ]
  },
  {
   "cell_type": "markdown",
   "metadata": {},
   "source": [
    "*dst = a\\*img1 + b\\*img2 + r *"
   ]
  },
  {
   "cell_type": "code",
   "execution_count": 15,
   "metadata": {},
   "outputs": [],
   "source": [
    "import cv2 as cv\n",
    "import numpy as np\n",
    "from matplotlib import pyplot as plt\n",
    "\n",
    "def bitwise(img1, img2):\n",
    "    dst = cv.bitwise_or(img1, img2)\n",
    "    cv.imshow('bitwise_or', dst)\n",
    "    dst = cv.bitwise_xor(img1, img2)\n",
    "    cv.imshow('bitwise_xor', dst)\n",
    "\n",
    "def contrast_brightness_demo(image, c, b):\n",
    "    blank = np.zeros(image.shape, image.dtype)\n",
    "    dst = cv.addWeighted(image, c, blank, 1-c, b)\n",
    "    cv.imshow('result', dst)\n",
    "\n",
    "\n",
    "img1 = cv.imread('D:\\\\CodingFolder\\\\OPENCVFolder\\\\OPENCV-Python\\\\resource\\\\data\\\\WindowsLogo.jpg')\n",
    "img2 = cv.imread('D:\\\\CodingFolder\\\\OPENCVFolder\\\\OPENCV-Python\\\\resource\\\\data\\\\LinuxLogo.jpg')\n",
    "# cv.imshow('img1', img1)\n",
    "# cv.imshow('img2', img2)\n",
    "# bitwise(img1, img2)\n",
    "src = cv.imread('D:\\\\CodingFolder\\\\OPENCVFolder\\\\OPENCV-Python\\\\resource\\\\data\\\\aero1.jpg')\n",
    "cv.imshow('img', src)\n",
    "contrast_brightness_demo(src, 0.8 ,10)\n",
    "cv.waitKey(0)\n",
    "cv.destroyAllWindows()"
   ]
  },
  {
   "cell_type": "code",
   "execution_count": null,
   "metadata": {},
   "outputs": [],
   "source": []
  }
 ],
 "metadata": {
  "language_info": {
   "codemirror_mode": {
    "name": "ipython",
    "version": 3
   },
   "file_extension": ".py",
   "mimetype": "text/x-python",
   "name": "python",
   "nbconvert_exporter": "python",
   "pygments_lexer": "ipython3",
   "version": "3.7.7-final"
  },
  "orig_nbformat": 2,
  "kernelspec": {
   "name": "python3",
   "display_name": "Python 3"
  }
 },
 "nbformat": 4,
 "nbformat_minor": 2
}