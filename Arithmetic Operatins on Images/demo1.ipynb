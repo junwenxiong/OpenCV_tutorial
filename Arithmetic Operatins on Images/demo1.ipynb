{
 "cells": [
  {
   "cell_type": "markdown",
   "metadata": {},
   "source": [
    "# Image Addtion\n",
    "\n"
   ]
  },
  {
   "cell_type": "code",
   "execution_count": 2,
   "metadata": {},
   "outputs": [],
   "source": [
    "import cv2 as cv\n",
    "import numpy as np"
   ]
  },
  {
   "cell_type": "markdown",
   "metadata": {},
   "source": [
    "OpenCV addition is saturated operation \n",
    "\n",
    "Numpy addition is a modulo operation"
   ]
  },
  {
   "cell_type": "code",
   "execution_count": 3,
   "metadata": {},
   "outputs": [
    {
     "output_type": "stream",
     "name": "stdout",
     "text": "[[255]]\n[4]\n"
    }
   ],
   "source": [
    "x = np.uint8([250])\n",
    "y = np.uint8([10])\n",
    "print(cv.add(x,y)) # 250+10 = 260 => 255\n",
    "print(x+y)  # 250+10 = 260 % 256 = 4"
   ]
  },
  {
   "cell_type": "markdown",
   "metadata": {},
   "source": [
    "# Image Blending"
   ]
  },
  {
   "cell_type": "markdown",
   "metadata": {},
   "source": [
    "*f0(x) is first image, and f1(x) is second image*\n",
    "\n",
    "*g(x) = (1 - a)f0(x) + af1(x)*"
   ]
  },
  {
   "cell_type": "code",
   "execution_count": 4,
   "metadata": {},
   "outputs": [],
   "source": [
    "img1 = cv.imread(\"D:\\\\CodingFolder\\\\OPENCVFolder\\\\resource\\\\1.jpg\")\n",
    "img2 = cv.imread(\"D:\\\\CodingFolder\\\\OPENCVFolder\\\\resource\\\\2.jpg\")"
   ]
  },
  {
   "cell_type": "code",
   "execution_count": 5,
   "metadata": {},
   "outputs": [],
   "source": [
    "dst = cv.addWeighted(img1, 0.7, img2, 0.3,0) # img1 and img2 have same size and channels"
   ]
  },
  {
   "cell_type": "code",
   "execution_count": 6,
   "metadata": {},
   "outputs": [],
   "source": [
    "cv.imshow(\"dst\", dst)\n",
    "cv.waitKey(0)\n",
    "cv.destroyAllWindows()"
   ]
  },
  {
   "cell_type": "markdown",
   "metadata": {},
   "source": [
    "# Bitwise Operations"
   ]
  },
  {
   "cell_type": "code",
   "execution_count": 7,
   "metadata": {},
   "outputs": [],
   "source": [
    "img3 = cv.imread(\"D:\\\\CodingFolder\\\\OPENCVFolder\\\\resource\\\\1.jpg\")\n",
    "img4 = cv.imread(\"D:\\\\CodingFolder\\\\OPENCVFolder\\\\resource\\\\5.jpg\")"
   ]
  },
  {
   "cell_type": "code",
   "execution_count": 8,
   "metadata": {},
   "outputs": [],
   "source": [
    "rows, cols, channels = img4.shape\n",
    "roi = img3[0:rows, 0:cols]"
   ]
  },
  {
   "cell_type": "code",
   "execution_count": 9,
   "metadata": {},
   "outputs": [],
   "source": [
    "# Now create a mask of img2 and create its inverse mask also\n",
    "img4gray = cv.cvtColor(img4, cv.COLOR_BGR2GRAY)\n",
    "ret, mask = cv.threshold(img4gray,10,255,cv.THRESH_BINARY)\n",
    "mask_inv = cv.bitwise_not(mask)"
   ]
  },
  {
   "cell_type": "code",
   "execution_count": 10,
   "metadata": {},
   "outputs": [],
   "source": [
    "# Now black-out the area of img1 in ROI\n",
    "img3_bg = cv.bitwise_and(roi, roi, mask = mask_inv)"
   ]
  },
  {
   "cell_type": "code",
   "execution_count": 11,
   "metadata": {},
   "outputs": [],
   "source": [
    "# Take only region of logo from logo image\n",
    "img4_fg = cv.bitwise_and(img4, img4, mask = mask)"
   ]
  },
  {
   "cell_type": "code",
   "execution_count": 12,
   "metadata": {},
   "outputs": [],
   "source": [
    "dst = cv.add(img3_bg, img4_fg)\n",
    "img3[0:rows, 0:cols]= dst\n",
    "cv.imshow('res', img3)\n",
    "cv.waitKey(0)\n",
    "cv.destroyAllWindows()"
   ]
  },
  {
   "cell_type": "code",
   "execution_count": 13,
   "metadata": {},
   "outputs": [],
   "source": [
    "# Exercises"
   ]
  },
  {
   "cell_type": "code",
   "execution_count": 14,
   "metadata": {},
   "outputs": [],
   "source": [
    "import time\n",
    "img1 = cv.imread('D:\\\\CodingFolder\\\\OPENCVFolder\\\\resource\\\\1.jpg')\n",
    "img2 = cv.imread('D:\\\\CodingFolder\\\\OPENCVFolder\\\\resource\\\\6.png')\n",
    "\n",
    "res = img1\n",
    "i = 10\n",
    "inc = 1\n",
    "cv.imshow('res', res)\n",
    "while(1):\n",
    "    if(cv.waitKey(1) & 0xFF == ord('q')):\n",
    "        break\n",
    "    else:\n",
    "        newimg = np.zeros((1200,800))\n",
    "        res = cv.addWeighted(img1, 0.1*i, img2, 0.1*(10-i),0)\n",
    "        if i ==10 or i==0:\n",
    "            inc = -inc\n",
    "        i = i+ inc\n",
    "        cv.imshow('res',res)\n",
    "        time.sleep(1) "
   ]
  },
  {
   "cell_type": "code",
   "execution_count": null,
   "metadata": {},
   "outputs": [],
   "source": []
  }
 ],
 "metadata": {
  "language_info": {
   "codemirror_mode": {
    "name": "ipython",
    "version": 3
   },
   "file_extension": ".py",
   "mimetype": "text/x-python",
   "name": "python",
   "nbconvert_exporter": "python",
   "pygments_lexer": "ipython3",
   "version": "3.7.7-final"
  },
  "orig_nbformat": 2,
  "kernelspec": {
   "name": "python3",
   "display_name": "Python 3"
  }
 },
 "nbformat": 4,
 "nbformat_minor": 2
}