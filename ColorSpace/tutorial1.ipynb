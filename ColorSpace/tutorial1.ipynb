{
 "cells": [
  {
   "cell_type": "markdown",
   "metadata": {},
   "source": [
    "# 色彩空间\n",
    "\n",
    "常见的色彩空间\n",
    "* RGB\n",
    "* HSV  H:0-180, S:0-255, V:0-255\n",
    "* HIS\n",
    "* YCrCb\n",
    "* YUV\n"
   ]
  },
  {
   "cell_type": "code",
   "execution_count": 2,
   "metadata": {},
   "outputs": [],
   "source": [
    "import cv2 as cv \n",
    "\n",
    "def color_space_demo(image):\n",
    "    gray = cv.cvtColor(image, cv.COLOR_BGR2GRAY)\n",
    "    cv.imshow('gray', gray)\n",
    "    hsv = cv.cvtColor(image, cv.COLOR_BGR2HSV)\n",
    "    cv.imshow('hsv', hsv)\n",
    "    yuv = cv.cvtColor(image, cv.COLOR_BGR2YUV)\n",
    "    cv.imshow('yuv', yuv)\n",
    "    Ycrcb = cv.cvtColor(image, cv.COLOR_BGR2YCrCb)\n",
    "    cv.imshow('ycrcb',Ycrcb)\n",
    "\n",
    "src = cv.imread('D:\\\\CodingFolder\\\\OPENCVFolder\\\\OPENCV-Python\\\\resource\\\\4.jpeg')\n",
    "cv.imshow('image', src)\n",
    "color_space_demo(src)\n",
    "cv.waitKey(0)\n",
    "cv.destroyAllWindows()"
   ]
  },
  {
   "cell_type": "markdown",
   "metadata": {},
   "source": [
    "色彩空间转换API\n",
    "\n",
    "*最重要的是RBG与HSV的转换*"
   ]
  },
  {
   "cell_type": "code",
   "execution_count": 2,
   "metadata": {},
   "outputs": [],
   "source": [
    "import cv2 as cv\n",
    "import numpy as np\n",
    "\n",
    "# 目标追踪\n",
    "def extrace_object_demo():\n",
    "    capture = cv.VideoCapture(\"D:\\\\CodingFolder\\\\OPENCVFolder\\\\OPENCV-Python\\\\resource\\\\tree.avi\")\n",
    "    while(True):\n",
    "        ret, frame = capture.read()\n",
    "        if ret == False:\n",
    "            break\n",
    "        # 转换到HSV\n",
    "        hsv = cv.cvtColor(frame, cv.COLOR_BGR2HSV)\n",
    "        # 设定绿色的阈值\n",
    "        lower_hsv = np.array([35,43,46])\n",
    "        higher_hsv = np.array([77,255,255])\n",
    "        #  根据阈值进行掩膜\n",
    "        mask = cv.inRange(hsv, lowerb=lower_hsv, upperb=higher_hsv)\n",
    "        cv.imshow('video', frame)\n",
    "        cv.imshow('mask', mask)\n",
    "        c = cv.waitKey(40)\n",
    "        if c == ord('q'):\n",
    "            break\n",
    "\n",
    "\n",
    "extrace_object_demo()\n",
    "cv.destroyAllWindows()"
   ]
  },
  {
   "cell_type": "code",
   "execution_count": 1,
   "metadata": {},
   "outputs": [],
   "source": [
    "import cv2 as cv\n",
    "img = cv.imread(\"D:\\\\CodingFolder\\\\OPENCVFolder\\\\OPENCV-Python\\\\resource\\\\1.jpg\")\n",
    "# 三通道分离, 该方法比较耗时\n",
    "# b, g, r = cv.split(img)\n",
    "\n",
    "b = img[:,:,0]\n",
    "g = img[:,:,1]\n",
    "r = img[:,:,2]\n",
    "cv.imshow('blue', b)\n",
    "# cv.imshow('red', r)\n",
    "# cv.imshow('green', g)\n",
    "\n",
    "res = cv.merge([r,g,b])\n",
    "cv.imshow('res',res)\n",
    "\n",
    "cv.waitKey(0)\n",
    "cv.destroyAllWindows()"
   ]
  },
  {
   "cell_type": "code",
   "execution_count": null,
   "metadata": {},
   "outputs": [],
   "source": []
  }
 ],
 "metadata": {
  "language_info": {
   "codemirror_mode": {
    "name": "ipython",
    "version": 3
   },
   "file_extension": ".py",
   "mimetype": "text/x-python",
   "name": "python",
   "nbconvert_exporter": "python",
   "pygments_lexer": "ipython3",
   "version": "3.7.7-final"
  },
  "orig_nbformat": 2,
  "kernelspec": {
   "name": "python3",
   "display_name": "Python 3"
  }
 },
 "nbformat": 4,
 "nbformat_minor": 2
}